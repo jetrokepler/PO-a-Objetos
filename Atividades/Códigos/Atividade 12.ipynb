{
 "cells": [
  {
   "cell_type": "code",
   "execution_count": null,
   "metadata": {},
   "outputs": [],
   "source": [
    "# Curso Técnico em Informática\n",
    "# Programação Orientada a Objetos\n",
    "# Exercício 12\n",
    "\n",
    "# Aluno: Jetro Kepler, 2º Informática. "
   ]
  },
  {
   "cell_type": "code",
   "execution_count": null,
   "metadata": {},
   "outputs": [],
   "source": [
    "# 1 - Faça um programa que peça um número maior que 1 ao usuário. Em seguida, imprima todos os números, de 1 até o número que o usuário informou.\n",
    "\n",
    "class funcao():\n",
    "\n",
    "    def __init__(self):\n",
    "\n",
    "        self.num = int(input(\"Informe um número inteiro maior que 1: \"))\n",
    "\n",
    "    def loop(self):\n",
    "\n",
    "        for i in range(1, self.num + 1):\n",
    "\n",
    "            print(i)\n",
    "\n",
    "funcionalidade = funcao()\n",
    "\n",
    "funcionalidade.loop()"
   ]
  },
  {
   "cell_type": "code",
   "execution_count": null,
   "metadata": {},
   "outputs": [],
   "source": [
    "# 2 - Crie um programa que peça um número ao usuário e imprima todos os números pares de 1 até o número fornecido.\n",
    "\n",
    "class funcao():\n",
    "\n",
    "    def __init__(self):\n",
    "        \n",
    "        self.num = int(input(\"Informe um número inteiro: \"))\n",
    "\n",
    "    def loop(self):\n",
    "        \n",
    "        for i in range(1, self.num + 1):\n",
    "            \n",
    "            if i % 2 == 0:\n",
    "\n",
    "                print(i)\n",
    "\n",
    "funcionalidade = funcao()\n",
    "\n",
    "funcionalidade.loop()"
   ]
  }
 ],
 "metadata": {
  "kernelspec": {
   "display_name": "Python 3",
   "language": "python",
   "name": "python3"
  },
  "language_info": {
   "name": "python",
   "version": "3.10.7"
  },
  "orig_nbformat": 4
 },
 "nbformat": 4,
 "nbformat_minor": 2
}

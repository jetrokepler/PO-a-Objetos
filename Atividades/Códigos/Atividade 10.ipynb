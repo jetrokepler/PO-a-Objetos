{
 "cells": [
  {
   "cell_type": "code",
   "execution_count": null,
   "metadata": {},
   "outputs": [],
   "source": [
    "# Curso Técnico em Informática\n",
    "# Programação Orientada a Objetos\n",
    "# Exercício 10\n",
    "\n",
    "# Aluno: Jetro Kepler, 2º Informática."
   ]
  },
  {
   "cell_type": "code",
   "execution_count": null,
   "metadata": {},
   "outputs": [],
   "source": [
    "# 1 - Crie um script que imprime todos os dias da semana na tela.\n",
    "\n",
    "class dias_da_semana:\n",
    "\n",
    "    def __init__(self):\n",
    "        \n",
    "        self.domingo = \"Domingo\"\n",
    "        self.segunda = \"Segunda-feira\"\n",
    "        self.terca = \"Terça-feira\"\n",
    "        self.quarta = \"Quarta-feira\"\n",
    "        self.quinta = \"Quinta-feira\"\n",
    "        self.sexta = \"Sexta-feira\"\n",
    "        self.sabado = \"Sábado\"\n",
    "\n",
    "semana = dias_da_semana()\n",
    "\n",
    "print(semana.domingo)\n",
    "print(semana.segunda)\n",
    "print(semana.terca)\n",
    "print(semana.quarta)\n",
    "print(semana.quinta)\n",
    "print(semana.sexta)\n",
    "print(semana.sabado)"
   ]
  },
  {
   "cell_type": "code",
   "execution_count": null,
   "metadata": {},
   "outputs": [],
   "source": [
    "# 2 - Crie um programa que exiba todos os segundos e minutos no intervalo de uma hora, no seguinte formato: XXmin YYs Por exemplo: 12min59s\n",
    "\n",
    "# Vamos usar duas variáveis, a minuto e segundo. Ambas vão de 0 até 59, ou seja, vamos usar o intervalo de 60: range(60)\n",
    "\n",
    "# O primeiro FOR é para os minutos.\n",
    "# Primeiro o minuto 0. Dentro dele vamos imprimir do 0s até 59s.\n",
    "# Depois o minuto 1. Dentro deles imprimimos de 0s até 59s.\n",
    "\n",
    "# ...\n",
    "# Por fim, minuto 59.\n",
    "# O FOR que vai estar aninhado é o responsável por imprimir os segundos.\n",
    "\n",
    "def hora():\n",
    "\n",
    "    for minuto in range(60):\n",
    "\n",
    "        for segundo in range(60):\n",
    "\n",
    "            print(f\"{minuto}min {segundo}s\")\n",
    "            \n",
    "print(hora())"
   ]
  }
 ],
 "metadata": {
  "kernelspec": {
   "display_name": "Python 3",
   "language": "python",
   "name": "python3"
  },
  "language_info": {
   "name": "python",
   "version": "3.10.7"
  },
  "orig_nbformat": 4
 },
 "nbformat": 4,
 "nbformat_minor": 2
}
